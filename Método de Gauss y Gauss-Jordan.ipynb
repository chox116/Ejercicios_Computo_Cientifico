{
 "cells": [
  {
   "cell_type": "markdown",
   "metadata": {},
   "source": [
    "# Solución de ecuaciones lineales simultáneas\n",
    "\n",
    "Supongamos que queremos resolver un sistema de ecuaciones simultáneas para determinar las variables w,x,y y z, de:\n",
    "\n",
    "\\begin{eqnarray}\n",
    "2w+x+4y+z &=&-4\\\\\n",
    "3w+4x-y-z &=&3\\\\\n",
    "w-4x+y+5z=9\\\\\n",
    "2w-2x+y+3z=7\n",
    "\\end{eqnarray}\n",
    "\n",
    "De acuerdo a lo que sabemos, planteamos la matriz correspondiente\n",
    "\n",
    "$\\begin{bmatrix}2 & 1 & 4 & 1 \\\\ 3 & 4 & -1 & -1 \\\\ 1 & -4 & 1 & 5 \\\\ 2 & -2 & 1 &3 \\end{bmatrix}$ \n",
    "$\\begin{bmatrix}w  \\\\ x \\\\ y \\\\ z \\end{bmatrix}$ = \n",
    "$\\begin{bmatrix} -4  \\\\ 3 \\\\ 9 \\\\ 7 \\end{bmatrix}$ \n",
    "\n",
    "Que en corto, tiene la forma \n",
    "\n",
    "$$Ax=v$$\n",
    "\n",
    "Una manera típica de resolver este problema es usar Eliminación Gaussiana"
   ]
  },
  {
   "cell_type": "markdown",
   "metadata": {},
   "source": [
    "Tenemos 3 operaciones básicas:\n",
    "\n",
    "1. Multiplicar un renglón por una constante\n",
    "2. Suma de renglones\n",
    "3. Intercambio de renglones\n",
    "\n",
    "Con estas tres operaciones, tenemos llevamos a A a una triangular superior. De ahí usamos el método de sustitución para atras:"
   ]
  },
  {
   "cell_type": "code",
   "execution_count": 135,
   "metadata": {},
   "outputs": [
    {
     "name": "stdout",
     "output_type": "stream",
     "text": [
      "El vector solución es\n",
      "[ 2. -1. -2.  1.]\n",
      "La solucion con numpy es:  [ 2. -1. -2.  1.]\n"
     ]
    }
   ],
   "source": [
    "from numpy import array, zeros\n",
    "A=array([[2,1,4,1],[3,4,-1,-1],[1,-4,1,5],[2,-2,1,3]],float)\n",
    "c=array([-4,3,9,7],float)\n",
    "n=len(c)\n",
    "for i in range(n):\n",
    "    for j in range(i+1,n):\n",
    "        multi=(A[j,i]/A[i,i])\n",
    "        A[j]=A[j]-multi*A[i]\n",
    "        c[j]=c[j]-multi*c[i]\n",
    "        #print('La Matriz aumentada con (%d,%d) es: ' %(i,j))\n",
    "        #print(A,c)\n",
    "for i in range(n):\n",
    "    div=A[i,i]\n",
    "    A[i]=A[i]/div\n",
    "    c[i]=c[i]/div\n",
    "    #print('La Matriz aumentada con el renglon %d cambiado  es:' %(i))\n",
    "    #print(A,c)\n",
    "\n",
    "\n",
    "x=zeros(n,float)\n",
    "for j in range(n-1,-1,-1): #ciclo hacia atras\n",
    "    x[j]=c[j]\n",
    "    for k in range(j+1,n):\n",
    "        x[j]-=A[j,k]*x[k]\n",
    "print('El vector solución es')\n",
    "print(x)\n",
    "\n",
    "m=matrix([[1,2,-3,-1],[0,-3,2,6],[-3,-1,3,1],[2,3,2,-1]],float)\n",
    "n=matrix([[0],[-8],[0],[-8]],float)\n",
    "\n",
    "from numpy.linalg import solve\n",
    "A=array([[2,1,4,1],[3,4,-1,-1],[1,-4,1,5],[2,-2,1,3]],float)\n",
    "c=array([-4,3,9,7],float)\n",
    "print('La solucion con numpy es: ',solve(A,c))"
   ]
  },
  {
   "cell_type": "markdown",
   "metadata": {},
   "source": [
    "# Matriz inversa con Gauss-Jordan"
   ]
  },
  {
   "cell_type": "code",
   "execution_count": 136,
   "metadata": {},
   "outputs": [
    {
     "name": "stdout",
     "output_type": "stream",
     "text": [
      "La Matriz original queda como\n",
      "[[1 0 0 0]\n",
      " [0 1 0 0]\n",
      " [0 0 1 0]\n",
      " [0 0 0 1]]\n",
      "La Matriz inversa queda como\n",
      "[[-0.2797619   0.0297619  -0.36309524  0.0952381 ]\n",
      " [ 0.44047619  0.05952381  0.27380952  0.19047619]\n",
      " [-0.23214286 -0.01785714  0.01785714  0.14285714]\n",
      " [ 0.29761905  0.20238095  0.13095238  0.04761905]]\n"
     ]
    }
   ],
   "source": [
    "from numpy import array, zeros, eye\n",
    "\n",
    "A=matrix([[1,2,-3,-1],[0,-3,2,6],[-3,-1,3,1],[2,3,2,-1]],float)\n",
    "#A=array([[2,1,4,1],[3,4,-1,-1],[1,-4,1,5],[2,-2,1,3]],float)\n",
    "n=len(A)\n",
    "c =eye(n)\n",
    "\n",
    "for i in range(n):\n",
    "    for j in range(n):\n",
    "        if A[i,i]!=0 and i!=j:\n",
    "            multi=(A[j,i]/A[i,i])\n",
    "            A[j]=A[j]-multi*A[i]\n",
    "            c[j]=c[j]-multi*c[i]\n",
    "for i in range(n):\n",
    "    div=A[i,i]\n",
    "    A[i]=A[i]/div\n",
    "    c[i]=c[i]/div        \n",
    "\n",
    "print('La Matriz original queda como')\n",
    "print(array(A,int))\n",
    "print('La Matriz inversa queda como')\n",
    "print(c)\n"
   ]
  },
  {
   "cell_type": "code",
   "execution_count": 137,
   "metadata": {},
   "outputs": [
    {
     "name": "stdout",
     "output_type": "stream",
     "text": [
      "La inversa es:  [[-1.17647059e-01 -5.88235294e-02 -5.88235294e-01  1.00000000e+00]\n",
      " [ 1.76470588e-01  3.38235294e-01  6.32352941e-01 -1.00000000e+00]\n",
      " [ 2.35294118e-01 -1.32352941e-01 -7.35294118e-02 -1.30614473e-17]\n",
      " [ 1.17647059e-01  3.08823529e-01  8.38235294e-01 -1.00000000e+00]]\n",
      "[[1 0 0 0]\n",
      " [0 1 0 0]\n",
      " [0 0 1 0]\n",
      " [0 0 0 1]]\n"
     ]
    }
   ],
   "source": [
    "#Comprobación con Numpy\n",
    "\n",
    "from numpy.linalg import *\n",
    "A=array([[2,1,4,1],[3,4,-1,-1],[1,-4,1,5],[2,-2,1,3]],float)\n",
    "A_inv=inv(A)\n",
    "print('La inversa es: ',array(A_inv,float))\n",
    "print(array(dot(A,A_inv),int))\n",
    "#print(dot(A,A_inv))"
   ]
  },
  {
   "cell_type": "markdown",
   "metadata": {},
   "source": [
    "###  Nuestra propia funcion Gauss_Jordan"
   ]
  },
  {
   "cell_type": "code",
   "execution_count": 143,
   "metadata": {},
   "outputs": [
    {
     "name": "stdout",
     "output_type": "stream",
     "text": [
      "[[ 2.  1.  4.  1.]\n",
      " [ 3.  4. -1. -1.]\n",
      " [ 1. -4.  1.  5.]\n",
      " [ 2. -2.  1.  3.]]\n",
      "La Matriz inversa es:\n",
      " [[-0.11764706 -0.05882353 -0.58823529  1.        ]\n",
      " [ 0.17647059  0.33823529  0.63235294 -1.        ]\n",
      " [ 0.23529412 -0.13235294 -0.07352941 -0.        ]\n",
      " [ 0.11764706  0.30882353  0.83823529 -1.        ]]\n",
      "Comprobación de que si es la inversa:\n",
      "[[0 0 0 0]\n",
      " [0 1 0 0]\n",
      " [0 0 1 0]\n",
      " [0 0 0 1]]\n"
     ]
    },
    {
     "data": {
      "text/plain": [
       "\"\\n\\nc1=gauss_jordan(A1)\\nprint('La Matriz inversa es:\\n',c1)\\nprint('Comprobación de que si es la inversa:')\\nprint(array(dot(A1,c1),int))\\n\""
      ]
     },
     "execution_count": 143,
     "metadata": {},
     "output_type": "execute_result"
    }
   ],
   "source": [
    "from numpy import *\n",
    "from numpy.linalg import *\n",
    "\n",
    "def gauss_jordan(A):\n",
    "    A_copia=A.copy()\n",
    "    n=len(A)\n",
    "    c =eye(n)\n",
    "    c_copia=c.copy()\n",
    "    for i in range(n):\n",
    "        for j in range(n):\n",
    "            if A_copia[i,i]!=0 and i!=j:\n",
    "                multi=(A_copia[j,i]/A_copia[i,i])\n",
    "                A_copia[j]=A_copia[j]-multi*A_copia[i]\n",
    "                c_copia[j]=c_copia[j]-multi*c_copia[i]\n",
    "    for i in range(n):\n",
    "        div=A_copia[i,i]\n",
    "        A_copia[i]=A_copia[i]/div\n",
    "        c_copia[i]=c_copia[i]/div   \n",
    "    return c_copia\n",
    "    \n",
    "B=array([[2,1,4,1],\n",
    "         [3,4,-1,-1],\n",
    "         [1,-4,1,5],\n",
    "         [2,-2,1,3]],float)\n",
    "\n",
    "A1 = array([[ 4,-1,-1,-1 ],\n",
    "           [ -1,0,3,0 ],\n",
    "           [ -1,3,1,-1 ],\n",
    "           [ -1,-1,0,4]], float)\n",
    "\n",
    "print(B)\n",
    "B_inv=gauss_jordan(B)\n",
    "print('La Matriz inversa es:\\n',B_inv)\n",
    "print('Comprobación de que si es la inversa:')\n",
    "#print(dot(B,c))\n",
    "print(array(dot(B,B_inv),int))\n",
    "'''\n",
    "\n",
    "c1=gauss_jordan(A1)\n",
    "print('La Matriz inversa es:\\n',c1)\n",
    "print('Comprobación de que si es la inversa:')\n",
    "print(array(dot(A1,c1),int))\n",
    "'''"
   ]
  },
  {
   "cell_type": "code",
   "execution_count": 139,
   "metadata": {},
   "outputs": [
    {
     "name": "stdout",
     "output_type": "stream",
     "text": [
      "[[ 4. -1. -1. -1.]\n",
      " [-1.  3.  0. -1.]\n",
      " [-1.  0.  3.  0.]\n",
      " [-1. -1.  0.  1.]]\n"
     ]
    }
   ],
   "source": [
    "A1 = array([[ 4,-1,-1,-1 ],\n",
    "           [ -1,0,3,0 ],\n",
    "           [ -1,3,0,-1 ],\n",
    "           [ -1,-1,0,1]], float)\n",
    "n=len(A1)\n",
    "B=A1.copy()\n",
    "'''\n",
    "if B[0,0]==0:\n",
    "    B[0]=A1[1]\n",
    "    B[1]=A1[0]\n",
    "if B[1,1]==0:\n",
    "    B[1]=A1[2]\n",
    "    B[2]=A1[1]\n",
    "if B[2,2]==0:\n",
    "    B[2]=A1[3]\n",
    "    B[3]=A1[2]\n",
    "if B[3,3]==0:\n",
    "    B[3]=A1[0]\n",
    "    B[0]=A1[3]\n",
    "'''\n",
    "for i in range(n-1):\n",
    "    if B[i,i]==0:\n",
    "        B[i]=A1[i+1]\n",
    "        B[i+1]=A1[i]\n",
    "if B[-1,-1]==0:\n",
    "    B[-1]=A1[0]\n",
    "    B[0]=A1[-1]\n",
    "print(B)"
   ]
  },
  {
   "cell_type": "code",
   "execution_count": 140,
   "metadata": {},
   "outputs": [],
   "source": [
    "from numpy import *\n",
    "from numpy.linalg import *\n",
    "\n",
    "def gauss_jordan(A):\n",
    "    A_copia=A.copy()\n",
    "    n=len(A)\n",
    "    c =eye(n)\n",
    "    c_copia=c.copy()\n",
    "    for i in range(n-1):\n",
    "        if A_copia[i,i]==0:\n",
    "            A_copia[i]=A1[i+1]\n",
    "            A_copia[i+1]=A1[i]\n",
    "            c_copia[i]=c[i+1]\n",
    "            c_copia[i+1]=c[i]\n",
    "    if A_copia[-1,-1]==0:\n",
    "        A_copia[-1]=A1[0]\n",
    "        A_copia[0]=A1[-1]\n",
    "        c_copia[-1]=c[0]\n",
    "        c_copia[0]=c[-1]\n",
    "    for i in range(n):\n",
    "        for j in range(n):\n",
    "            if A_copia[i,i]!=0 and i!=j:\n",
    "                multi=(A_copia[j,i]/A_copia[i,i])\n",
    "                A_copia[j]=A_copia[j]-multi*A_copia[i]\n",
    "                c_copia[j]=c_copia[j]-multi*c_copia[i]\n",
    "    for i in range(n):\n",
    "        div=A_copia[i,i]\n",
    "        A_copia[i]=A_copia[i]/div\n",
    "        c_copia[i]=c_copia[i]/div   \n",
    "    return c_copia"
   ]
  },
  {
   "cell_type": "code",
   "execution_count": 141,
   "metadata": {},
   "outputs": [
    {
     "name": "stdout",
     "output_type": "stream",
     "text": [
      "La Matriz inversa es:\n",
      " [[ 0.11538462  0.03846154 -0.11538462 -0.46153846]\n",
      " [-0.11538462 -0.03846154  0.11538462 -0.53846154]\n",
      " [ 0.03846154  0.34615385 -0.03846154 -0.15384615]\n",
      " [-0.46153846 -0.15384615 -0.53846154 -1.15384615]]\n",
      "Comprobación de que si es la inversa:\n",
      "[[1 0 0 0]\n",
      " [0 1 0 0]\n",
      " [0 0 1 0]\n",
      " [0 0 0 1]]\n"
     ]
    }
   ],
   "source": [
    "A1 = array([[ 4,-1,-1,-1 ],\n",
    "           [ -1,0,3,0 ],\n",
    "           [ -1,3,0,-1 ],\n",
    "           [ -1,-1,0,0]], float)\n",
    "c=gauss_jordan(A1)\n",
    "print('La Matriz inversa es:\\n',c)\n",
    "print('Comprobación de que si es la inversa:')\n",
    "print(array(dot(A1,c),int))"
   ]
  },
  {
   "cell_type": "code",
   "execution_count": 142,
   "metadata": {},
   "outputs": [
    {
     "name": "stdout",
     "output_type": "stream",
     "text": [
      "[[ 4. -1. -1. -1.]\n",
      " [-1.  0.  3.  0.]\n",
      " [-1.  3.  0. -1.]\n",
      " [-1. -1.  0.  0.]]\n",
      "[[ 0.11538462  0.03846154 -0.11538462 -0.46153846]\n",
      " [-0.11538462 -0.03846154  0.11538462 -0.53846154]\n",
      " [ 0.03846154  0.34615385 -0.03846154 -0.15384615]\n",
      " [-0.46153846 -0.15384615 -0.53846154 -1.15384615]]\n"
     ]
    }
   ],
   "source": [
    "from numpy.linalg import *\n",
    "print(A1)\n",
    "print(inv(A1))"
   ]
  },
  {
   "cell_type": "code",
   "execution_count": null,
   "metadata": {},
   "outputs": [],
   "source": []
  },
  {
   "cell_type": "code",
   "execution_count": null,
   "metadata": {},
   "outputs": [],
   "source": []
  }
 ],
 "metadata": {
  "kernelspec": {
   "display_name": "Python 3",
   "language": "python",
   "name": "python3"
  },
  "language_info": {
   "codemirror_mode": {
    "name": "ipython",
    "version": 3
   },
   "file_extension": ".py",
   "mimetype": "text/x-python",
   "name": "python",
   "nbconvert_exporter": "python",
   "pygments_lexer": "ipython3",
   "version": "3.8.3"
  }
 },
 "nbformat": 4,
 "nbformat_minor": 4
}
